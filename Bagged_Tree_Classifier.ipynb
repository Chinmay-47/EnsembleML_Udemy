{
  "nbformat": 4,
  "nbformat_minor": 0,
  "metadata": {
    "colab": {
      "name": "Bagged_Tree_Classifier.ipynb",
      "provenance": [],
      "collapsed_sections": [],
      "authorship_tag": "ABX9TyMH041cM8o36zRsUJFDyT0k",
      "include_colab_link": true
    },
    "kernelspec": {
      "name": "python3",
      "display_name": "Python 3"
    }
  },
  "cells": [
    {
      "cell_type": "markdown",
      "metadata": {
        "id": "view-in-github",
        "colab_type": "text"
      },
      "source": [
        "<a href=\"https://colab.research.google.com/github/Chinmay-47/EnsembleML_Udemy/blob/master/Bagged_Tree_Classifier.ipynb\" target=\"_parent\"><img src=\"https://colab.research.google.com/assets/colab-badge.svg\" alt=\"Open In Colab\"/></a>"
      ]
    },
    {
      "cell_type": "code",
      "metadata": {
        "id": "dq61-sjMVBzM",
        "colab_type": "code",
        "colab": {
          "base_uri": "https://localhost:8080/",
          "height": 385
        },
        "outputId": "3115c7ca-b8d5-4157-8dd7-572fb2414570"
      },
      "source": [
        "from __future__ import print_function, division\n",
        "from builtins import range, input\n",
        "import numpy as np\n",
        "import matplotlib.pyplot as plt\n",
        "from sklearn.tree import DecisionTreeClassifier\n",
        "from sklearn.utils import shuffle\n",
        "from util import plot_decision_boundary\n",
        "\n",
        "np.random.seed(10)\n",
        "\n",
        "# create the data\n",
        "N = 500\n",
        "D = 2\n",
        "X = np.random.randn(N, D)\n",
        "\n",
        "# 2 gaussians\n",
        "# sep = 1.5\n",
        "# X[:N/2] += np.array([sep, sep])\n",
        "# X[N/2:] += np.array([-sep, -sep])\n",
        "# Y = np.array([0]*(N/2) + [1]*(N/2))\n",
        "\n",
        "# noisy XOR\n",
        "sep = 2\n",
        "X[:125] += np.array([sep, sep])\n",
        "X[125:250] += np.array([sep, -sep])\n",
        "X[250:375] += np.array([-sep, -sep])\n",
        "X[375:] += np.array([-sep, sep])\n",
        "Y = np.array([0]*125 + [1]*125 + [0]*125 + [1]*125)\n",
        "\n",
        "# plot the data\n",
        "plt.scatter(X[:,0], X[:,1], s=100, c=Y, alpha=0.5)\n",
        "plt.show()\n",
        "\n",
        "# lone decision tree\n",
        "model = DecisionTreeClassifier()\n",
        "model.fit(X, Y)\n",
        "print(\"score for 1 tree:\", model.score(X, Y))\n",
        "\n",
        "# plot data with boundary\n",
        "plt.scatter(X[:,0], X[:,1], s=100, c=Y, alpha=0.5)\n",
        "plot_decision_boundary(X, model)\n",
        "plt.show()\n",
        "\n",
        "\n",
        "# create the bagged model\n",
        "class BaggedTreeClassifier:\n",
        "  def __init__(self, B):\n",
        "    self.B = B\n",
        "\n",
        "  def fit(self, X, Y):\n",
        "    N = len(X)\n",
        "    self.models = []\n",
        "    for b in range(self.B):\n",
        "      idx = np.random.choice(N, size=N, replace=True)\n",
        "      Xb = X[idx]\n",
        "      Yb = Y[idx]\n",
        "\n",
        "      model = DecisionTreeClassifier(max_depth=2)\n",
        "      model.fit(Xb, Yb)\n",
        "      self.models.append(model)\n",
        "\n",
        "  def predict(self, X):\n",
        "    # no need to keep a dictionary since we are doing binary classification\n",
        "    predictions = np.zeros(len(X))\n",
        "    for model in self.models:\n",
        "      predictions += model.predict(X)\n",
        "    return np.round(predictions / self.B)\n",
        "\n",
        "  def score(self, X, Y):\n",
        "    P = self.predict(X)\n",
        "    return np.mean(Y == P)\n",
        "\n",
        "\n",
        "model = BaggedTreeClassifier(200)\n",
        "model.fit(X, Y)\n",
        "\n",
        "print(\"score for bagged model:\", model.score(X, Y))\n",
        "\n",
        "# plot data with boundary\n",
        "plt.scatter(X[:,0], X[:,1], s=100, c=Y, alpha=0.5)\n",
        "plot_decision_boundary(X, model)\n",
        "plt.show()"
      ],
      "execution_count": 7,
      "outputs": [
        {
          "output_type": "stream",
          "text": [
            "E: Unable to locate package util\n"
          ],
          "name": "stdout"
        },
        {
          "output_type": "error",
          "ename": "ModuleNotFoundError",
          "evalue": "ignored",
          "traceback": [
            "\u001b[0;31m---------------------------------------------------------------------------\u001b[0m",
            "\u001b[0;31mModuleNotFoundError\u001b[0m                       Traceback (most recent call last)",
            "\u001b[0;32m<ipython-input-7-dec49f8abe0c>\u001b[0m in \u001b[0;36m<module>\u001b[0;34m()\u001b[0m\n\u001b[1;32m      1\u001b[0m \u001b[0mget_ipython\u001b[0m\u001b[0;34m(\u001b[0m\u001b[0;34m)\u001b[0m\u001b[0;34m.\u001b[0m\u001b[0msystem\u001b[0m\u001b[0;34m(\u001b[0m\u001b[0;34m'apt-get -qq install -y util'\u001b[0m\u001b[0;34m)\u001b[0m\u001b[0;34m\u001b[0m\u001b[0;34m\u001b[0m\u001b[0m\n\u001b[0;32m----> 2\u001b[0;31m \u001b[0;32mimport\u001b[0m \u001b[0mutil\u001b[0m\u001b[0;34m\u001b[0m\u001b[0;34m\u001b[0m\u001b[0m\n\u001b[0m\u001b[1;32m      3\u001b[0m \u001b[0;32mfrom\u001b[0m \u001b[0m__future__\u001b[0m \u001b[0;32mimport\u001b[0m \u001b[0mprint_function\u001b[0m\u001b[0;34m,\u001b[0m \u001b[0mdivision\u001b[0m\u001b[0;34m\u001b[0m\u001b[0;34m\u001b[0m\u001b[0m\n\u001b[1;32m      4\u001b[0m \u001b[0;32mfrom\u001b[0m \u001b[0mbuiltins\u001b[0m \u001b[0;32mimport\u001b[0m \u001b[0mrange\u001b[0m\u001b[0;34m,\u001b[0m \u001b[0minput\u001b[0m\u001b[0;34m\u001b[0m\u001b[0;34m\u001b[0m\u001b[0m\n\u001b[1;32m      5\u001b[0m \u001b[0;32mimport\u001b[0m \u001b[0mnumpy\u001b[0m \u001b[0;32mas\u001b[0m \u001b[0mnp\u001b[0m\u001b[0;34m\u001b[0m\u001b[0;34m\u001b[0m\u001b[0m\n",
            "\u001b[0;31mModuleNotFoundError\u001b[0m: No module named 'util'",
            "",
            "\u001b[0;31m---------------------------------------------------------------------------\u001b[0;32m\nNOTE: If your import is failing due to a missing package, you can\nmanually install dependencies using either !pip or !apt.\n\nTo view examples of installing some common dependencies, click the\n\"Open Examples\" button below.\n\u001b[0;31m---------------------------------------------------------------------------\u001b[0m\n"
          ]
        }
      ]
    }
  ]
}